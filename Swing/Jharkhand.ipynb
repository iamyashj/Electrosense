{
 "cells": [
  {
   "cell_type": "code",
   "execution_count": 1,
   "id": "9f8dd2f8",
   "metadata": {},
   "outputs": [],
   "source": [
    "import pandas as pd"
   ]
  },
  {
   "cell_type": "code",
   "execution_count": 2,
   "id": "5f8b6d3c",
   "metadata": {},
   "outputs": [],
   "source": [
    "from sklearn.svm import SVR"
   ]
  },
  {
   "cell_type": "code",
   "execution_count": 3,
   "id": "d115bd2e",
   "metadata": {},
   "outputs": [],
   "source": [
    "df=pd.read_csv(\"Jharhand.csv\")"
   ]
  },
  {
   "cell_type": "code",
   "execution_count": 4,
   "id": "3cadf26e",
   "metadata": {},
   "outputs": [
    {
     "data": {
      "text/html": [
       "<div>\n",
       "<style scoped>\n",
       "    .dataframe tbody tr th:only-of-type {\n",
       "        vertical-align: middle;\n",
       "    }\n",
       "\n",
       "    .dataframe tbody tr th {\n",
       "        vertical-align: top;\n",
       "    }\n",
       "\n",
       "    .dataframe thead th {\n",
       "        text-align: right;\n",
       "    }\n",
       "</style>\n",
       "<table border=\"1\" class=\"dataframe\">\n",
       "  <thead>\n",
       "    <tr style=\"text-align: right;\">\n",
       "      <th></th>\n",
       "      <th>Year</th>\n",
       "      <th>BJP</th>\n",
       "      <th>INC</th>\n",
       "      <th>JMM</th>\n",
       "      <th>JVM</th>\n",
       "      <th>RJD</th>\n",
       "    </tr>\n",
       "  </thead>\n",
       "  <tbody>\n",
       "    <tr>\n",
       "      <th>0</th>\n",
       "      <td>2009</td>\n",
       "      <td>20.18</td>\n",
       "      <td>16.16</td>\n",
       "      <td>15.20</td>\n",
       "      <td>8.99</td>\n",
       "      <td>5.03</td>\n",
       "    </tr>\n",
       "    <tr>\n",
       "      <th>1</th>\n",
       "      <td>2009</td>\n",
       "      <td>27.50</td>\n",
       "      <td>15.00</td>\n",
       "      <td>11.70</td>\n",
       "      <td>10.50</td>\n",
       "      <td>NaN</td>\n",
       "    </tr>\n",
       "    <tr>\n",
       "      <th>2</th>\n",
       "      <td>2014</td>\n",
       "      <td>31.26</td>\n",
       "      <td>10.46</td>\n",
       "      <td>20.43</td>\n",
       "      <td>9.99</td>\n",
       "      <td>NaN</td>\n",
       "    </tr>\n",
       "    <tr>\n",
       "      <th>3</th>\n",
       "      <td>2014</td>\n",
       "      <td>40.70</td>\n",
       "      <td>13.50</td>\n",
       "      <td>9.40</td>\n",
       "      <td>12.30</td>\n",
       "      <td>NaN</td>\n",
       "    </tr>\n",
       "    <tr>\n",
       "      <th>4</th>\n",
       "      <td>2019</td>\n",
       "      <td>33.37</td>\n",
       "      <td>13.88</td>\n",
       "      <td>18.72</td>\n",
       "      <td>5.45</td>\n",
       "      <td>NaN</td>\n",
       "    </tr>\n",
       "    <tr>\n",
       "      <th>5</th>\n",
       "      <td>2019</td>\n",
       "      <td>51.60</td>\n",
       "      <td>15.80</td>\n",
       "      <td>11.70</td>\n",
       "      <td>5.10</td>\n",
       "      <td>NaN</td>\n",
       "    </tr>\n",
       "  </tbody>\n",
       "</table>\n",
       "</div>"
      ],
      "text/plain": [
       "   Year    BJP    INC    JMM    JVM   RJD\n",
       "0  2009  20.18  16.16  15.20   8.99  5.03\n",
       "1  2009  27.50  15.00  11.70  10.50   NaN\n",
       "2  2014  31.26  10.46  20.43   9.99   NaN\n",
       "3  2014  40.70  13.50   9.40  12.30   NaN\n",
       "4  2019  33.37  13.88  18.72   5.45   NaN\n",
       "5  2019  51.60  15.80  11.70   5.10   NaN"
      ]
     },
     "execution_count": 4,
     "metadata": {},
     "output_type": "execute_result"
    }
   ],
   "source": [
    "df"
   ]
  },
  {
   "cell_type": "code",
   "execution_count": 5,
   "id": "2df812f5",
   "metadata": {},
   "outputs": [
    {
     "name": "stderr",
     "output_type": "stream",
     "text": [
      "C:\\ProgramData\\Anaconda3\\lib\\site-packages\\sklearn\\base.py:450: UserWarning: X does not have valid feature names, but SVR was fitted with feature names\n",
      "  warnings.warn(\n"
     ]
    }
   ],
   "source": [
    "model=SVR(kernel='rbf')\n",
    "model.fit(df[['Year']],df['BJP'])\n",
    "y_predict=model.predict([[2024]])"
   ]
  },
  {
   "cell_type": "code",
   "execution_count": 6,
   "id": "43e5736d",
   "metadata": {},
   "outputs": [
    {
     "data": {
      "text/plain": [
       "array([31.75165918])"
      ]
     },
     "execution_count": 6,
     "metadata": {},
     "output_type": "execute_result"
    }
   ],
   "source": [
    "y_predict"
   ]
  },
  {
   "cell_type": "code",
   "execution_count": 7,
   "id": "86cdc3ca",
   "metadata": {},
   "outputs": [
    {
     "name": "stderr",
     "output_type": "stream",
     "text": [
      "C:\\ProgramData\\Anaconda3\\lib\\site-packages\\sklearn\\base.py:450: UserWarning: X does not have valid feature names, but SVR was fitted with feature names\n",
      "  warnings.warn(\n"
     ]
    }
   ],
   "source": [
    "model=SVR(kernel='rbf')\n",
    "model.fit(df[['Year']],df['INC'])\n",
    "y_predict=model.predict([[2024]])"
   ]
  },
  {
   "cell_type": "code",
   "execution_count": 8,
   "id": "159e5326",
   "metadata": {},
   "outputs": [
    {
     "data": {
      "text/plain": [
       "array([14.25941341])"
      ]
     },
     "execution_count": 8,
     "metadata": {},
     "output_type": "execute_result"
    }
   ],
   "source": [
    "y_predict"
   ]
  },
  {
   "cell_type": "code",
   "execution_count": 9,
   "id": "dee2c467",
   "metadata": {},
   "outputs": [
    {
     "name": "stderr",
     "output_type": "stream",
     "text": [
      "C:\\ProgramData\\Anaconda3\\lib\\site-packages\\sklearn\\base.py:450: UserWarning: X does not have valid feature names, but SVR was fitted with feature names\n",
      "  warnings.warn(\n"
     ]
    }
   ],
   "source": [
    "model=SVR(kernel='rbf')\n",
    "model.fit(df[['Year']],df['JMM'])\n",
    "y_predict=model.predict([[2024]])"
   ]
  },
  {
   "cell_type": "code",
   "execution_count": 10,
   "id": "d963de1c",
   "metadata": {},
   "outputs": [
    {
     "data": {
      "text/plain": [
       "array([13.45])"
      ]
     },
     "execution_count": 10,
     "metadata": {},
     "output_type": "execute_result"
    }
   ],
   "source": [
    "y_predict"
   ]
  },
  {
   "cell_type": "code",
   "execution_count": null,
   "id": "ff89dd65",
   "metadata": {},
   "outputs": [],
   "source": [
    "BJP:-19.85\n",
    "INC:-1.55\n",
    "JMM:1.75"
   ]
  },
  {
   "cell_type": "code",
   "execution_count": null,
   "id": "23c1be1c",
   "metadata": {},
   "outputs": [],
   "source": []
  },
  {
   "cell_type": "code",
   "execution_count": null,
   "id": "04ffe92d",
   "metadata": {},
   "outputs": [],
   "source": []
  }
 ],
 "metadata": {
  "kernelspec": {
   "display_name": "Python 3 (ipykernel)",
   "language": "python",
   "name": "python3"
  },
  "language_info": {
   "codemirror_mode": {
    "name": "ipython",
    "version": 3
   },
   "file_extension": ".py",
   "mimetype": "text/x-python",
   "name": "python",
   "nbconvert_exporter": "python",
   "pygments_lexer": "ipython3",
   "version": "3.9.12"
  }
 },
 "nbformat": 4,
 "nbformat_minor": 5
}
