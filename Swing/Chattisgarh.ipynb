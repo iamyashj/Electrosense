{
 "cells": [
  {
   "cell_type": "code",
   "execution_count": 2,
   "id": "633acedd",
   "metadata": {},
   "outputs": [],
   "source": [
    "import pandas as pd"
   ]
  },
  {
   "cell_type": "code",
   "execution_count": 3,
   "id": "a36cc148",
   "metadata": {},
   "outputs": [],
   "source": [
    "df=pd.read_csv(\"Chattisgarh.csv\")"
   ]
  },
  {
   "cell_type": "code",
   "execution_count": 4,
   "id": "6cccf9f1",
   "metadata": {},
   "outputs": [
    {
     "data": {
      "text/html": [
       "<div>\n",
       "<style scoped>\n",
       "    .dataframe tbody tr th:only-of-type {\n",
       "        vertical-align: middle;\n",
       "    }\n",
       "\n",
       "    .dataframe tbody tr th {\n",
       "        vertical-align: top;\n",
       "    }\n",
       "\n",
       "    .dataframe thead th {\n",
       "        text-align: right;\n",
       "    }\n",
       "</style>\n",
       "<table border=\"1\" class=\"dataframe\">\n",
       "  <thead>\n",
       "    <tr style=\"text-align: right;\">\n",
       "      <th></th>\n",
       "      <th>Year</th>\n",
       "      <th>BJP</th>\n",
       "      <th>INC</th>\n",
       "      <th>BSP</th>\n",
       "    </tr>\n",
       "  </thead>\n",
       "  <tbody>\n",
       "    <tr>\n",
       "      <th>0</th>\n",
       "      <td>2013</td>\n",
       "      <td>41.00</td>\n",
       "      <td>40.30</td>\n",
       "      <td>4.30</td>\n",
       "    </tr>\n",
       "    <tr>\n",
       "      <th>1</th>\n",
       "      <td>2014</td>\n",
       "      <td>49.70</td>\n",
       "      <td>39.10</td>\n",
       "      <td>2.40</td>\n",
       "    </tr>\n",
       "    <tr>\n",
       "      <th>2</th>\n",
       "      <td>2018</td>\n",
       "      <td>43.90</td>\n",
       "      <td>33.60</td>\n",
       "      <td>1.80</td>\n",
       "    </tr>\n",
       "    <tr>\n",
       "      <th>3</th>\n",
       "      <td>2019</td>\n",
       "      <td>51.40</td>\n",
       "      <td>41.50</td>\n",
       "      <td>2.30</td>\n",
       "    </tr>\n",
       "    <tr>\n",
       "      <th>4</th>\n",
       "      <td>2023</td>\n",
       "      <td>46.27</td>\n",
       "      <td>42.23</td>\n",
       "      <td>2.05</td>\n",
       "    </tr>\n",
       "  </tbody>\n",
       "</table>\n",
       "</div>"
      ],
      "text/plain": [
       "   Year    BJP    INC   BSP\n",
       "0  2013  41.00  40.30  4.30\n",
       "1  2014  49.70  39.10  2.40\n",
       "2  2018  43.90  33.60  1.80\n",
       "3  2019  51.40  41.50  2.30\n",
       "4  2023  46.27  42.23  2.05"
      ]
     },
     "execution_count": 4,
     "metadata": {},
     "output_type": "execute_result"
    }
   ],
   "source": [
    "df"
   ]
  },
  {
   "cell_type": "code",
   "execution_count": 5,
   "id": "ff34f1c7",
   "metadata": {},
   "outputs": [
    {
     "data": {
      "text/plain": [
       "Index(['Year', 'BJP', 'INC', 'BSP'], dtype='object')"
      ]
     },
     "execution_count": 5,
     "metadata": {},
     "output_type": "execute_result"
    }
   ],
   "source": [
    "df.columns"
   ]
  },
  {
   "cell_type": "code",
   "execution_count": 12,
   "id": "71b1fad7",
   "metadata": {},
   "outputs": [
    {
     "name": "stdout",
     "output_type": "stream",
     "text": [
      "BJP\n",
      "INC\n",
      "INC\n"
     ]
    }
   ],
   "source": [
    "NDA=['BJP','INC','INC','Shivsena']\n",
    "for i in NDA:\n",
    "    if i in df.columns:\n",
    "        print(i)"
   ]
  },
  {
   "cell_type": "code",
   "execution_count": 4,
   "id": "b4425a0e",
   "metadata": {},
   "outputs": [],
   "source": [
    "from sklearn.svm import SVR\n",
    "import matplotlib.pyplot as plt"
   ]
  },
  {
   "cell_type": "code",
   "execution_count": 5,
   "id": "dea1261f",
   "metadata": {},
   "outputs": [
    {
     "name": "stderr",
     "output_type": "stream",
     "text": [
      "C:\\ProgramData\\Anaconda3\\lib\\site-packages\\sklearn\\base.py:450: UserWarning: X does not have valid feature names, but SVR was fitted with feature names\n",
      "  warnings.warn(\n"
     ]
    }
   ],
   "source": [
    "model=SVR(kernel='rbf')\n",
    "model.fit(df[['Year']],df['INC'])\n",
    "y_predict=model.predict([[2024]])"
   ]
  },
  {
   "cell_type": "code",
   "execution_count": 6,
   "id": "93999f2a",
   "metadata": {},
   "outputs": [
    {
     "data": {
      "text/plain": [
       "array([42.0035595])"
      ]
     },
     "execution_count": 6,
     "metadata": {},
     "output_type": "execute_result"
    }
   ],
   "source": [
    "y_predict"
   ]
  },
  {
   "cell_type": "code",
   "execution_count": 7,
   "id": "8d81f478",
   "metadata": {},
   "outputs": [
    {
     "name": "stderr",
     "output_type": "stream",
     "text": [
      "C:\\ProgramData\\Anaconda3\\lib\\site-packages\\sklearn\\base.py:450: UserWarning: X does not have valid feature names, but SVR was fitted with feature names\n",
      "  warnings.warn(\n"
     ]
    }
   ],
   "source": [
    "model=SVR(kernel='rbf')\n",
    "model.fit(df[['Year']],df['BJP'])\n",
    "y_predict=model.predict([[2024]])"
   ]
  },
  {
   "cell_type": "code",
   "execution_count": 8,
   "id": "341a4c6a",
   "metadata": {},
   "outputs": [
    {
     "data": {
      "text/plain": [
       "array([46.20645998])"
      ]
     },
     "execution_count": 8,
     "metadata": {},
     "output_type": "execute_result"
    }
   ],
   "source": [
    "y_predict"
   ]
  },
  {
   "cell_type": "code",
   "execution_count": 9,
   "id": "a472390f",
   "metadata": {},
   "outputs": [
    {
     "name": "stderr",
     "output_type": "stream",
     "text": [
      "C:\\ProgramData\\Anaconda3\\lib\\site-packages\\sklearn\\base.py:450: UserWarning: X does not have valid feature names, but SVR was fitted with feature names\n",
      "  warnings.warn(\n"
     ]
    }
   ],
   "source": [
    "model=SVR(kernel='rbf')\n",
    "model.fit(df[['Year']],df['BSP'])\n",
    "y_predict=model.predict([[2024]])"
   ]
  },
  {
   "cell_type": "code",
   "execution_count": 10,
   "id": "ab36d8f8",
   "metadata": {},
   "outputs": [
    {
     "data": {
      "text/plain": [
       "array([2.12473623])"
      ]
     },
     "execution_count": 10,
     "metadata": {},
     "output_type": "execute_result"
    }
   ],
   "source": [
    "y_predict"
   ]
  },
  {
   "cell_type": "markdown",
   "id": "e46f7d9f",
   "metadata": {},
   "source": [
    "#  swing  <br>\n",
    "#  BJP :-5.2 <br>\n",
    "#  INC : 1.50 <br>\n",
    "# BSP :0.7"
   ]
  },
  {
   "cell_type": "code",
   "execution_count": null,
   "id": "79106b30",
   "metadata": {},
   "outputs": [],
   "source": []
  }
 ],
 "metadata": {
  "kernelspec": {
   "display_name": "Python 3 (ipykernel)",
   "language": "python",
   "name": "python3"
  },
  "language_info": {
   "codemirror_mode": {
    "name": "ipython",
    "version": 3
   },
   "file_extension": ".py",
   "mimetype": "text/x-python",
   "name": "python",
   "nbconvert_exporter": "python",
   "pygments_lexer": "ipython3",
   "version": "3.9.12"
  }
 },
 "nbformat": 4,
 "nbformat_minor": 5
}
