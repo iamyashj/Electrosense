{
 "cells": [
  {
   "cell_type": "code",
   "execution_count": 1,
   "id": "81ccccfa",
   "metadata": {},
   "outputs": [],
   "source": [
    "import pandas as pd\n",
    "from sklearn.svm import SVR"
   ]
  },
  {
   "cell_type": "code",
   "execution_count": 2,
   "id": "5477000c",
   "metadata": {},
   "outputs": [],
   "source": [
    "df=pd.read_csv(\"Punjab.csv\")"
   ]
  },
  {
   "cell_type": "code",
   "execution_count": 3,
   "id": "efb799ae",
   "metadata": {},
   "outputs": [
    {
     "data": {
      "text/html": [
       "<div>\n",
       "<style scoped>\n",
       "    .dataframe tbody tr th:only-of-type {\n",
       "        vertical-align: middle;\n",
       "    }\n",
       "\n",
       "    .dataframe tbody tr th {\n",
       "        vertical-align: top;\n",
       "    }\n",
       "\n",
       "    .dataframe thead th {\n",
       "        text-align: right;\n",
       "    }\n",
       "</style>\n",
       "<table border=\"1\" class=\"dataframe\">\n",
       "  <thead>\n",
       "    <tr style=\"text-align: right;\">\n",
       "      <th></th>\n",
       "      <th>Year</th>\n",
       "      <th>BJP</th>\n",
       "      <th>INC</th>\n",
       "      <th>AAP</th>\n",
       "      <th>SAD</th>\n",
       "    </tr>\n",
       "  </thead>\n",
       "  <tbody>\n",
       "    <tr>\n",
       "      <th>0</th>\n",
       "      <td>2012</td>\n",
       "      <td>7.2</td>\n",
       "      <td>40.10</td>\n",
       "      <td>NaN</td>\n",
       "      <td>34.70</td>\n",
       "    </tr>\n",
       "    <tr>\n",
       "      <th>1</th>\n",
       "      <td>2014</td>\n",
       "      <td>8.8</td>\n",
       "      <td>33.20</td>\n",
       "      <td>24.50</td>\n",
       "      <td>26.40</td>\n",
       "    </tr>\n",
       "    <tr>\n",
       "      <th>2</th>\n",
       "      <td>2017</td>\n",
       "      <td>5.4</td>\n",
       "      <td>38.50</td>\n",
       "      <td>23.70</td>\n",
       "      <td>25.20</td>\n",
       "    </tr>\n",
       "    <tr>\n",
       "      <th>3</th>\n",
       "      <td>2019</td>\n",
       "      <td>9.7</td>\n",
       "      <td>40.60</td>\n",
       "      <td>7.50</td>\n",
       "      <td>27.80</td>\n",
       "    </tr>\n",
       "    <tr>\n",
       "      <th>4</th>\n",
       "      <td>2022</td>\n",
       "      <td>6.6</td>\n",
       "      <td>22.98</td>\n",
       "      <td>42.01</td>\n",
       "      <td>18.38</td>\n",
       "    </tr>\n",
       "  </tbody>\n",
       "</table>\n",
       "</div>"
      ],
      "text/plain": [
       "   Year  BJP    INC    AAP    SAD\n",
       "0  2012  7.2  40.10    NaN  34.70\n",
       "1  2014  8.8  33.20  24.50  26.40\n",
       "2  2017  5.4  38.50  23.70  25.20\n",
       "3  2019  9.7  40.60   7.50  27.80\n",
       "4  2022  6.6  22.98  42.01  18.38"
      ]
     },
     "execution_count": 3,
     "metadata": {},
     "output_type": "execute_result"
    }
   ],
   "source": [
    "df"
   ]
  },
  {
   "cell_type": "code",
   "execution_count": 4,
   "id": "ad3a179f",
   "metadata": {},
   "outputs": [],
   "source": [
    "df.fillna(0,inplace=True)"
   ]
  },
  {
   "cell_type": "code",
   "execution_count": 5,
   "id": "3da9b544",
   "metadata": {},
   "outputs": [
    {
     "data": {
      "text/html": [
       "<div>\n",
       "<style scoped>\n",
       "    .dataframe tbody tr th:only-of-type {\n",
       "        vertical-align: middle;\n",
       "    }\n",
       "\n",
       "    .dataframe tbody tr th {\n",
       "        vertical-align: top;\n",
       "    }\n",
       "\n",
       "    .dataframe thead th {\n",
       "        text-align: right;\n",
       "    }\n",
       "</style>\n",
       "<table border=\"1\" class=\"dataframe\">\n",
       "  <thead>\n",
       "    <tr style=\"text-align: right;\">\n",
       "      <th></th>\n",
       "      <th>Year</th>\n",
       "      <th>BJP</th>\n",
       "      <th>INC</th>\n",
       "      <th>AAP</th>\n",
       "      <th>SAD</th>\n",
       "    </tr>\n",
       "  </thead>\n",
       "  <tbody>\n",
       "    <tr>\n",
       "      <th>0</th>\n",
       "      <td>2012</td>\n",
       "      <td>7.2</td>\n",
       "      <td>40.10</td>\n",
       "      <td>0.00</td>\n",
       "      <td>34.70</td>\n",
       "    </tr>\n",
       "    <tr>\n",
       "      <th>1</th>\n",
       "      <td>2014</td>\n",
       "      <td>8.8</td>\n",
       "      <td>33.20</td>\n",
       "      <td>24.50</td>\n",
       "      <td>26.40</td>\n",
       "    </tr>\n",
       "    <tr>\n",
       "      <th>2</th>\n",
       "      <td>2017</td>\n",
       "      <td>5.4</td>\n",
       "      <td>38.50</td>\n",
       "      <td>23.70</td>\n",
       "      <td>25.20</td>\n",
       "    </tr>\n",
       "    <tr>\n",
       "      <th>3</th>\n",
       "      <td>2019</td>\n",
       "      <td>9.7</td>\n",
       "      <td>40.60</td>\n",
       "      <td>7.50</td>\n",
       "      <td>27.80</td>\n",
       "    </tr>\n",
       "    <tr>\n",
       "      <th>4</th>\n",
       "      <td>2022</td>\n",
       "      <td>6.6</td>\n",
       "      <td>22.98</td>\n",
       "      <td>42.01</td>\n",
       "      <td>18.38</td>\n",
       "    </tr>\n",
       "  </tbody>\n",
       "</table>\n",
       "</div>"
      ],
      "text/plain": [
       "   Year  BJP    INC    AAP    SAD\n",
       "0  2012  7.2  40.10   0.00  34.70\n",
       "1  2014  8.8  33.20  24.50  26.40\n",
       "2  2017  5.4  38.50  23.70  25.20\n",
       "3  2019  9.7  40.60   7.50  27.80\n",
       "4  2022  6.6  22.98  42.01  18.38"
      ]
     },
     "execution_count": 5,
     "metadata": {},
     "output_type": "execute_result"
    }
   ],
   "source": [
    "df"
   ]
  },
  {
   "cell_type": "code",
   "execution_count": 6,
   "id": "50cbf4d7",
   "metadata": {},
   "outputs": [
    {
     "name": "stderr",
     "output_type": "stream",
     "text": [
      "C:\\ProgramData\\Anaconda3\\lib\\site-packages\\sklearn\\base.py:450: UserWarning: X does not have valid feature names, but SVR was fitted with feature names\n",
      "  warnings.warn(\n"
     ]
    }
   ],
   "source": [
    "model=SVR(kernel='rbf')\n",
    "model.fit(df[['Year']],df['AAP'])\n",
    "y_predict=model.predict([[2024]])"
   ]
  },
  {
   "cell_type": "code",
   "execution_count": 7,
   "id": "6fb6b7d8",
   "metadata": {},
   "outputs": [
    {
     "data": {
      "text/plain": [
       "array([24.5297941])"
      ]
     },
     "execution_count": 7,
     "metadata": {},
     "output_type": "execute_result"
    }
   ],
   "source": [
    "y_predict"
   ]
  },
  {
   "cell_type": "code",
   "execution_count": 8,
   "id": "1fcae575",
   "metadata": {},
   "outputs": [
    {
     "name": "stderr",
     "output_type": "stream",
     "text": [
      "C:\\ProgramData\\Anaconda3\\lib\\site-packages\\sklearn\\base.py:450: UserWarning: X does not have valid feature names, but SVR was fitted with feature names\n",
      "  warnings.warn(\n"
     ]
    }
   ],
   "source": [
    "model=SVR(kernel='rbf')\n",
    "model.fit(df[['Year']],df['BJP'])\n",
    "y_predict=model.predict([[2024]])"
   ]
  },
  {
   "cell_type": "code",
   "execution_count": 9,
   "id": "46da358d",
   "metadata": {},
   "outputs": [
    {
     "data": {
      "text/plain": [
       "array([6.64267589])"
      ]
     },
     "execution_count": 9,
     "metadata": {},
     "output_type": "execute_result"
    }
   ],
   "source": [
    "y_predict"
   ]
  },
  {
   "cell_type": "code",
   "execution_count": 10,
   "id": "8fa564dc",
   "metadata": {},
   "outputs": [
    {
     "name": "stderr",
     "output_type": "stream",
     "text": [
      "C:\\ProgramData\\Anaconda3\\lib\\site-packages\\sklearn\\base.py:450: UserWarning: X does not have valid feature names, but SVR was fitted with feature names\n",
      "  warnings.warn(\n"
     ]
    }
   ],
   "source": [
    "model=SVR(kernel='rbf')\n",
    "model.fit(df[['Year']],df['INC'])\n",
    "y_predict=model.predict([[2024]])"
   ]
  },
  {
   "cell_type": "code",
   "execution_count": 12,
   "id": "62d508b4",
   "metadata": {},
   "outputs": [
    {
     "data": {
      "text/plain": [
       "array([37.6702059])"
      ]
     },
     "execution_count": 12,
     "metadata": {},
     "output_type": "execute_result"
    }
   ],
   "source": [
    "y_predict"
   ]
  },
  {
   "cell_type": "code",
   "execution_count": 13,
   "id": "49db0c46",
   "metadata": {},
   "outputs": [
    {
     "name": "stderr",
     "output_type": "stream",
     "text": [
      "C:\\ProgramData\\Anaconda3\\lib\\site-packages\\sklearn\\base.py:450: UserWarning: X does not have valid feature names, but SVR was fitted with feature names\n",
      "  warnings.warn(\n"
     ]
    }
   ],
   "source": [
    "model=SVR(kernel='rbf')\n",
    "model.fit(df[['Year']],df['SAD'])\n",
    "y_predict=model.predict([[2024]])"
   ]
  },
  {
   "cell_type": "code",
   "execution_count": 14,
   "id": "4d6ae03b",
   "metadata": {},
   "outputs": [
    {
     "data": {
      "text/plain": [
       "array([25.41982778])"
      ]
     },
     "execution_count": 14,
     "metadata": {},
     "output_type": "execute_result"
    }
   ],
   "source": [
    "y_predict"
   ]
  },
  {
   "cell_type": "code",
   "execution_count": null,
   "id": "db9fa03a",
   "metadata": {},
   "outputs": [],
   "source": []
  }
 ],
 "metadata": {
  "kernelspec": {
   "display_name": "Python 3 (ipykernel)",
   "language": "python",
   "name": "python3"
  },
  "language_info": {
   "codemirror_mode": {
    "name": "ipython",
    "version": 3
   },
   "file_extension": ".py",
   "mimetype": "text/x-python",
   "name": "python",
   "nbconvert_exporter": "python",
   "pygments_lexer": "ipython3",
   "version": "3.9.12"
  }
 },
 "nbformat": 4,
 "nbformat_minor": 5
}
